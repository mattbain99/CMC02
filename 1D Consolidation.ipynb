{
 "cells": [
  {
   "cell_type": "markdown",
   "id": "12cddda3",
   "metadata": {},
   "source": [
    "# 1 Dimentional Consolidation Analysis"
   ]
  },
  {
   "cell_type": "markdown",
   "id": "158fb208",
   "metadata": {},
   "source": [
    "How to run:\n",
    "Before attempting to run this interactive analysis, "
   ]
  },
  {
   "cell_type": "markdown",
   "id": "c40e6408",
   "metadata": {},
   "source": [
    "\"Explain one-D consolidation\"\n",
    "One dimentional consolidation is the effect point loads have on soil. ### look for 1D consolidation notes from previous lecture notes ###"
   ]
  },
  {
   "cell_type": "markdown",
   "id": "e0b877f9",
   "metadata": {},
   "source": [
    "# Model & Geometry"
   ]
  },
  {
   "cell_type": "markdown",
   "id": "670e5deb",
   "metadata": {},
   "source": [
    "Talk here"
   ]
  },
  {
   "cell_type": "markdown",
   "id": "fcc77579",
   "metadata": {},
   "source": [
    "# Material"
   ]
  },
  {
   "cell_type": "markdown",
   "id": "63f271be",
   "metadata": {},
   "source": [
    "This example consists of a single homogeneous soil layer in which an axial load is applied to the soil surface. The soil layer used is assumed to be a cohesive material. The model reaches a depth of 10 meters below groundlevel. The effect of a load on soil is a change in the excess pore pressures, the vertical effective stress and the settlement."
   ]
  },
  {
   "cell_type": "markdown",
   "id": "23cd0afe",
   "metadata": {},
   "source": [
    "# Loading and Analysis"
   ]
  },
  {
   "cell_type": "markdown",
   "id": "40222d84",
   "metadata": {},
   "source": [
    "The loading is vertically applied to the centre of the model in the downward direction. "
   ]
  },
  {
   "cell_type": "markdown",
   "id": "a42b25f5",
   "metadata": {},
   "source": [
    "# Outcomes"
   ]
  },
  {
   "cell_type": "markdown",
   "id": "d16b3da8",
   "metadata": {},
   "source": [
    "\"Explain the changable parameters\""
   ]
  },
  {
   "cell_type": "markdown",
   "id": "bbf37b5d",
   "metadata": {},
   "source": [
    "\"Explain what graph colours\""
   ]
  },
  {
   "cell_type": "code",
   "execution_count": 1,
   "id": "b1135a61",
   "metadata": {},
   "outputs": [
    {
     "name": "stdout",
     "output_type": "stream",
     "text": [
      "Note: you may need to restart the kernel to use updated packages.\n"
     ]
    },
    {
     "name": "stderr",
     "output_type": "stream",
     "text": [
      "'C:\\Program' is not recognized as an internal or external command,\n",
      "operable program or batch file.\n"
     ]
    }
   ],
   "source": [
    "\"pip install openseespy\" \"Will have to see if these work\""
   ]
  },
  {
   "cell_type": "code",
   "execution_count": 2,
   "id": "473667bc",
   "metadata": {},
   "outputs": [
    {
     "name": "stdout",
     "output_type": "stream",
     "text": [
      "Note: you may need to restart the kernel to use updated packages.\n"
     ]
    },
    {
     "name": "stderr",
     "output_type": "stream",
     "text": [
      "'C:\\Program' is not recognized as an internal or external command,\n",
      "operable program or batch file.\n"
     ]
    }
   ],
   "source": [
    "\"pip install matplotlib\" \"will have to see if these will work\""
   ]
  },
  {
   "cell_type": "code",
   "execution_count": null,
   "id": "4cc1af28",
   "metadata": {},
   "outputs": [],
   "source": [
    "\"pip install numpy\""
   ]
  },
  {
   "cell_type": "code",
   "execution_count": null,
   "id": "94aecbae",
   "metadata": {},
   "outputs": [],
   "source": [
    "\"pip install ipywidgets\""
   ]
  },
  {
   "cell_type": "code",
   "execution_count": 8,
   "id": "b5d75323",
   "metadata": {},
   "outputs": [],
   "source": [
    "import openseespy.opensees as op\n",
    "import matplotlib.pyplot as plt\n",
    "import numpy as np\n",
    "import ipywidgets as wid"
   ]
  },
  {
   "cell_type": "code",
   "execution_count": 9,
   "id": "e0e3620e",
   "metadata": {},
   "outputs": [],
   "source": [
    "def one_Dimentional_Consolidation(load = 500, drainage = 1, phi = 0.0, mPermV = 5e-5, mPermH = 5e-5, cohesion = 45):\n",
    "    op.wipe()\n",
    "\n",
    "    # specify desired drainage type; 1 --> single drainage, 2 --> double drainage\n",
    "    #drainage = 1\n",
    "\n",
    "    # 1. Define Mesh geometry \n",
    "\n",
    "    #Number of elements in horizontal direction\n",
    "    numEleX = 1\n",
    "\n",
    "    #Size of elements in horizontal direction (m)\n",
    "    sizeEleX = 1.0\n",
    "\n",
    "    #Number of nodes in horizontal direction\n",
    "    numNodeX = 2*numEleX + 1\n",
    "\n",
    "    #Number of elements in vertical direction\n",
    "    numEleY = 10\n",
    "\n",
    "    #Size of elements in vertical direction (m)\n",
    "    sizeEleY = 1.0\n",
    "\n",
    "    #Number of nodes in vertical direction\n",
    "    numNodeY = 2 * numEleY + 1\n",
    "\n",
    "    #Total number of nodes\n",
    "    totalNumNode = 3 * numNodeY\n",
    "\n",
    "    #Total number of elements\n",
    "    totalNumEle = numEleX * numEleY\n",
    "\n",
    "    #2. Define corner nodes\n",
    "\n",
    "    op.model('basic', '-ndm', 2, '-ndf', 3)\n",
    "\n",
    "\n",
    "    for i in range(1, numNodeX+1, 2):\n",
    "        for j in range(1, numNodeY+1, 2):      \n",
    "            xCoord = (i-1)*sizeEleX/2\n",
    "            yCoord = (j-1)*sizeEleY/2\n",
    "            nodeNum = i+(j-1)*numNodeX\n",
    "            op.node(nodeNum, xCoord, yCoord)\n",
    "            #print('Node {},{},{}'.format(nodeNum,xCoord,yCoord))\n",
    "    #print('Finished creating corner soil nodes ...')\n",
    "\n",
    "\n",
    "    # 3. Define boundary conditions for corner nodes\n",
    "    if drainage == 1:\n",
    "        op.fix(1,1,1,0)\n",
    "        op.fix(3,1,1,0)\n",
    "    else:\n",
    "        op.fix(1,1,1,1)\n",
    "        op.fix(3,1,1,1)\n",
    "\n",
    "    #Fix horizontal displacement and porepressure DOF for nodes at the top\n",
    "    op.fix(totalNumNode-2, 1, 0, 1)\n",
    "    op.fix(totalNumNode, 1, 0, 1)\n",
    "\n",
    "    # Fix horizontal displacement for all remaining nodes\n",
    "\n",
    "    #Check sith chris that starting node at 7 is all good, as node 1 was already fixed at 1 and caused error\n",
    "    for i in range(7, 3*numNodeY-5, 6):\n",
    "        op.fix(i, 1, 0, 0)\n",
    "        op.fix(i+2, 1, 0, 0)\n",
    "\n",
    "    #print(\"Finished creating boundary conditions for corner nodes...\")\n",
    "\n",
    "    # 4. Define Interior Nodes\n",
    "\n",
    "    op.model('basic', '-ndm', 2, '-ndf', 2)\n",
    "\n",
    "    #Central column of nodes\n",
    "\n",
    "    xCoord = sizeEleX/2\n",
    "    for j in range(1, numEleY+1):\n",
    "        yCoord = j-0.5\n",
    "        nodeNumL = 6*j-2\n",
    "        nodeNumR = nodeNumL + 2 \n",
    "        op.node(nodeNumL, 0.0, yCoord)\n",
    "        op.node(nodeNumR, sizeEleX, yCoord)\n",
    "        #print('Node, {}, {}, {}'.format(nodeNumL, 0.0, yCoord))\n",
    "        #print('Node, {}, {}, {}'.format(nodeNumR, sizeEleX, yCoord))\n",
    "\n",
    "    for j in range(1, numNodeY+1):\n",
    "        #nodeNumC = 3*j - 1\n",
    "        yCoord = (j-1)*sizeEleX/2\n",
    "        nodeNum = 3*j - 1\n",
    "        op.node(nodeNum, 0.5, yCoord)\n",
    "        #print('Node, {}, {}, {}'.format(nodeNum, 0.5, yCoord))\n",
    "\n",
    "    #print('Finished creating all soil Nodes...')\n",
    "\n",
    "    #5. Define Boundary conditions for interior nodes\n",
    "\n",
    "    op.fix(2,1,1)\n",
    "\n",
    "    for i in range(1, numEleY+1):\n",
    "        nodeNumL = 6*i-2\n",
    "        nodeNumR = nodeNumL +2\n",
    "        op.fix(nodeNumL, 1, 0)\n",
    "        op.fix(nodeNumR, 1, 0)\n",
    "        #print('fix {}, 1, 0'.format(nodeNumL))\n",
    "        #print('fix {}, 1, 0'.format(nodeNumR))\n",
    "\n",
    "    #Check the below commands, Changed the variable to fit (+1 on each due to python finishing 1 before end)\n",
    "    op.equalDOF(totalNumNode-1, totalNumNode - 2, 1, 2)\n",
    "    op.equalDOF(totalNumNode-1, totalNumNode, 1, 2)\n",
    "\n",
    "    #print(\"Finished creating all boundary conditions and equal DOF...\")\n",
    "\n",
    "    # 6. Define Material Properties of soil\n",
    "\n",
    "    #Saturated mass density (Mg/m3)\n",
    "    satDensity = 2.3\n",
    "\n",
    "    #Fluid Density (Mg/m3)\n",
    "    h2ODensity = 1\n",
    "\n",
    "    #Shear modulus (kPa)\n",
    "    shear = 2.5e4\n",
    "\n",
    "    #Bulk modulus (kPa)\n",
    "    bulk = 6.2e5\n",
    "\n",
    "    #undrained bulk modulus\n",
    "    uBulk = 2.2e5\n",
    "\n",
    "    #Vertical permeability, input value in m/s, units are modified to suit constitutive model\n",
    "    #mPermV = 5e-5\n",
    "    vPerm = mPermV / 9.81 / h2ODensity\n",
    "\n",
    "    # Horizontal permeability, input value m/s, units are modified to suit constitutive model\n",
    "    mPermH = 5e-5\n",
    "    hPerm = mPermH / 9.81 / h2ODensity\n",
    "\n",
    "    #Cohesion (kPa)\n",
    "    #cohesion = 45.0\n",
    "\n",
    "    #Friction angle (Degrees)\n",
    "    #phi = 0.0\n",
    "\n",
    "    #Peak shear strain \n",
    "    gammaPeak = 0.1\n",
    "\n",
    "    #Reference pressure (kPa)\n",
    "    refPress = 80.0\n",
    "\n",
    "    #Pressure dependency coefficient\n",
    "    pressCoeff = 0.0\n",
    "\n",
    "    #number of yield surfaces\n",
    "    numSurf = 22\n",
    "\n",
    "    # 7. Define soil materials\n",
    "\n",
    "    matTag = 1\n",
    "    op.nDMaterial('PressureIndependMultiYield', matTag, 2, satDensity, shear, bulk, cohesion, gammaPeak, phi, refPress, pressCoeff, numSurf)\n",
    "    #print('Finished creating all soil materials...')\n",
    "\n",
    "    # 8. Define Soil Elements\n",
    "    thick = 1\n",
    "    wgtX = 0.0\n",
    "    wgtY = -9.81\n",
    "\n",
    "    for j in range(1, numEleY+1):\n",
    "        nI = 6 * j - 5\n",
    "        nJ = nI + 2\n",
    "        nK = nI + 8\n",
    "        nL = nI + 6\n",
    "        nM = nI + 1\n",
    "        nN = nI + 5\n",
    "        nP = nI + 7\n",
    "        nQ = nI + 3\n",
    "        nR = nI + 4\n",
    "        op.element('9_4_QuadUP', j, nI, nJ, nK, nL, nM, nN, nP, nQ, nR, thick, matTag, bulk, h2ODensity, hPerm, vPerm, wgtX, wgtY)\n",
    "    op.updateMaterialStage('-material', matTag, '-stage', 0)\n",
    "\n",
    "    # 9. Apply Gravity Loading\n",
    "    #Newmark parameters\n",
    "    gamma = 0.5\n",
    "    beta = 0.25\n",
    "\n",
    "    #Analysis objects\n",
    "    op.constraints('Transformation')\n",
    "    op.test('NormDispIncr', 1e-2, 30, 0)\n",
    "    op.algorithm('Newton')\n",
    "    op.numberer('RCM')\n",
    "    op.system('ProfileSPD')\n",
    "    op.integrator('Newmark', gamma, beta)\n",
    "    op.analysis('Transient')\n",
    "    op.analyze(10, 5)\n",
    "    #print('Finished with elastic gravity analysis')\n",
    "\n",
    "    # 10. Update soil material stage\n",
    "    op.updateMaterialStage('-material', matTag, '-stage', 1)\n",
    "    op.analyze(45, 5.0e2)\n",
    "    #print('Finished with plastic gravity analysis ...')\n",
    "\n",
    "    # 11. Consolidation analysis\n",
    "    op.wipeAnalysis()\n",
    "    op.setTime(10.0) \n",
    "    op.wipeAnalysis()\n",
    "\n",
    "    #overburden = -1000\n",
    "    loadVals = [0.0, -load]\n",
    "    op.timeSeries('Constant', 1, '-factor', 1.0)\n",
    "    op.pattern('Plain', 1, 1)\n",
    "    op.load(totalNumNode - 1, *loadVals)\n",
    "\n",
    "    # Analysis objects\n",
    "    op.constraints('Penalty', 1.0e16, 1.0e16)\n",
    "    op.test('NormDispIncr', 1e-2, 30, 0)\n",
    "    op.algorithm('Newton')\n",
    "    op.numberer('RCM')\n",
    "    op.system('ProfileSPD')\n",
    "    op.integrator('Newmark', gamma, beta)\n",
    "    op.rayleigh(0.5, 0.2, 0.0, 0.0)\n",
    "    op.analysis('Transient')\n",
    "\n",
    "    #Pore Pressure analysis\n",
    "    totPorePressure = []\n",
    "    surdisp = []\n",
    "    stress = []\n",
    "    response = ['material', 9, 'stress']\n",
    "\n",
    "    for i in range(0 , 800):\n",
    "        op.analyze(1, 0.25)\n",
    "        for j in range(1, totalNumNode+1):\n",
    "            totPorePressure.append(op.nodeResponse(j, 3, 2))\n",
    "        for k in range(totalNumNode-2, totalNumNode+1):\n",
    "            surdisp.append(op.nodeResponse(k, 2, 1))\n",
    "        for y in range(1, totalNumEle+1):\n",
    "            stress.append(op.eleResponse(y, *response))\n",
    "\n",
    "    count = 0\n",
    "    newArray = []\n",
    "    vStress = []\n",
    "    for i in stress:\n",
    "        newArray.append(i)\n",
    "        count += 1\n",
    "        if count == 10:\n",
    "            count = 0\n",
    "            vStress.append(newArray)\n",
    "            newArray = []\n",
    "    vStress = np.array(vStress)   \n",
    "\n",
    "    count = 0\n",
    "    newArray = []\n",
    "    newArray1 = []\n",
    "    totPorePressureArray = []\n",
    "\n",
    "    for i in totPorePressure:\n",
    "        if int(i) < 0.1:\n",
    "            i = 0.0\n",
    "        newArray.append(i)\n",
    "        count += 1\n",
    "        if count == totalNumNode:\n",
    "            count = 0\n",
    "            count1 = 0\n",
    "            for p in newArray:\n",
    "                if count1 == 0:\n",
    "                    newArray1.append(p)\n",
    "                count1 += 1\n",
    "                if count1 == 6:\n",
    "                    count1 = 0\n",
    "            totPorePressureArray.append(newArray1)\n",
    "            newArray = [] \n",
    "            newArray1 = []\n",
    "    totPorePressureArray = np.array(totPorePressureArray)\n",
    "\n",
    "    #Settlement analysis\n",
    "    count = 0\n",
    "    newArray = [] \n",
    "    surDispArray = []\n",
    "\n",
    "    for i in surdisp:\n",
    "        newArray.append(i)\n",
    "        count += 1\n",
    "        if count == 3:\n",
    "            count = 0\n",
    "            surDispArray.append(newArray)\n",
    "            newArray = []\n",
    "\n",
    "    surDispArray = np.array(surDispArray)\n",
    "\n",
    "    time = np.linspace(0,200,800)\n",
    "\n",
    "    #Creating the subplots\n",
    "    #fig, [[ax1, ax2],[ax3,ax4]] = plt.subplots(nrows = 2, ncols = 2, figsize = (10,10))\n",
    "    fig, axs = plt.subplots(nrows = 1, ncols = 3, figsize = (20,5))\n",
    "    axs = axs.flatten()\n",
    "    fig.tight_layout()\n",
    "    \n",
    "    #Pore Pressure\n",
    "    for i in range(0,len(totPorePressureArray)):\n",
    "        x_ax = totPorePressureArray[i,:]\n",
    "        y_ax = [10, 9, 8, 7, 6, 5, 4, 3, 2, 1, 0]\n",
    "        if i == 0:\n",
    "            axs[0].plot(x_ax, y_ax, '.b-')\n",
    "        elif(i>0 and i<10):\n",
    "            axs[0].plot(x_ax, y_ax, '.g-')\n",
    "        else:\n",
    "            axs[0].plot(x_ax, y_ax, '.k-')\n",
    "    \n",
    "    axs[0].set_xlabel('Excess pore pressure (kPa)')\n",
    "    axs[0].set_ylabel('Depth (m)')\n",
    "    axs[0].invert_yaxis()   \n",
    "      \n",
    "\n",
    "    #Surface displacement\n",
    "    for i in range(0, len(surDispArray)):\n",
    "        t_ax = time\n",
    "        settlem = surDispArray[:,1]*1000 \n",
    "        settleo = surDispArray[:,0]*1000\n",
    "        settleo2 = surDispArray[:,2]*1000\n",
    "        axs[1].plot(t_ax, settlem,'.b-')      \n",
    "    axs[1].set_xlabel('Time (s)')\n",
    "    axs[1].set_ylabel('Settlement at surface (mm)')\n",
    "\n",
    "    # Vertical effective stress\n",
    "    for i in range(0, 799):\n",
    "        y_ax = [9.5, 8.5, 7.5, 6.5, 5.5, 4.5, 3.5, 2.5, 1.5, 0.5]\n",
    "        vert_Stress = -vStress[i][:,1]\n",
    "        if i == 0:\n",
    "            axs[2].plot(vert_Stress, y_ax, '.b-')\n",
    "        elif(i>0 and i<10):\n",
    "            axs[2].plot(vert_Stress, y_ax, '.g-')\n",
    "        else:\n",
    "            axs[2].plot(vert_Stress, y_ax, '.k-')\n",
    "    plt.yticks(np.arange(0,11,1))    \n",
    "    axs[2].set_xlabel('Vertical effective stress (kPa)')\n",
    "    axs[2].set_ylabel('Depth (m)')\n",
    "    axs[2].invert_yaxis()\n"
   ]
  },
  {
   "cell_type": "code",
   "execution_count": 10,
   "id": "74af46fa",
   "metadata": {},
   "outputs": [
    {
     "data": {
      "application/vnd.jupyter.widget-view+json": {
       "model_id": "2c0b59acdc4b4b6caee2dd4487898255",
       "version_major": 2,
       "version_minor": 0
      },
      "text/plain": [
       "interactive(children=(IntSlider(value=0, description='P', max=1000, step=100), Dropdown(description='drainage'…"
      ]
     },
     "metadata": {},
     "output_type": "display_data"
    },
    {
     "data": {
      "text/plain": [
       "<function __main__.one_Dimentional_Consolidation(load=500, drainage=1, phi=0.0, mPermV=5e-05, mPermH=5e-05, cohesion=45)>"
      ]
     },
     "execution_count": 10,
     "metadata": {},
     "output_type": "execute_result"
    }
   ],
   "source": [
    "wid.interact(one_Dimentional_Consolidation, load=wid.IntSlider(max=1000, min=0, description = 'P', step = 100),drainage = [1.0,2.0], phi=wid.IntSlider(min=0, max=40, description = 'ϕ', step=1), mPermV = [5e-5,5e-4, 5e-3, 5e-2, 5e-1], mPermH = [5e-5,5e-4, 5e-3, 5e-2, 5e-1], cohesion = [90, 75, 60, 45, 30, 15])"
   ]
  }
 ],
 "metadata": {
  "kernelspec": {
   "display_name": "Python 3",
   "language": "python",
   "name": "python3"
  },
  "language_info": {
   "codemirror_mode": {
    "name": "ipython",
    "version": 3
   },
   "file_extension": ".py",
   "mimetype": "text/x-python",
   "name": "python",
   "nbconvert_exporter": "python",
   "pygments_lexer": "ipython3",
   "version": "3.8.8"
  }
 },
 "nbformat": 4,
 "nbformat_minor": 5
}
